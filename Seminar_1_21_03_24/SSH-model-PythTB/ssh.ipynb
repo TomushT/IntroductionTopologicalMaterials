{
 "cells": [
  {
   "cell_type": "markdown",
   "metadata": {},
   "source": [
    "\n",
    "# SSH tight-binding model using the PythTB package"
   ]
  },
  {
   "cell_type": "markdown",
   "metadata": {},
   "source": [
    "__[PythTB](http://www.physics.rutgers.edu/pythtb/index.html)__"
   ]
  },
  {
   "cell_type": "markdown",
   "metadata": {},
   "source": [
    "### Import packages for Python"
   ]
  },
  {
   "cell_type": "code",
   "execution_count": null,
   "metadata": {},
   "outputs": [],
   "source": [
    "# Copyright under GNU General Public License 2010, 2012, 2016\n",
    "# by Sinisa Coh and David Vanderbilt (see gpl-pythtb.txt)\n",
    "\n",
    "from pythtb import * # import TB model class\n",
    "import numpy as np\n",
    "import matplotlib.pyplot as plt\n",
    "from matplotlib.colors import LinearSegmentedColormap"
   ]
  },
  {
   "cell_type": "markdown",
   "metadata": {},
   "source": [
    "### Define basic properties of the model"
   ]
  },
  {
   "cell_type": "markdown",
   "metadata": {},
   "source": [
    "positions of orbitals in reduced coordinates (in units of the lattice vectors)"
   ]
  },
  {
   "cell_type": "code",
   "execution_count": null,
   "metadata": {},
   "outputs": [],
   "source": [
    "# define lattice vectors\n",
    "lat=[[1]]\n",
    "# define coordinates of orbitals\n",
    "orb=[[0.25],[0.75]]"
   ]
  },
  {
   "cell_type": "markdown",
   "metadata": {},
   "source": [
    "### Create the model"
   ]
  },
  {
   "cell_type": "code",
   "execution_count": null,
   "metadata": {},
   "outputs": [],
   "source": [
    "# create the SSH model\n",
    "my_model=tb_model(1,1,lat,orb)\n",
    "\n",
    "# set model parameters\n",
    "v=0.5\n",
    "w=1.0\n",
    "\n",
    "# set on-site energies\n",
    "my_model.set_onsite([0,0])\n",
    "# set hoppings (one for each connected pair of orbitals)\n",
    "# (amplitude, i, j, [lattice vector to cell containing j])\n",
    "my_model.set_hop(v, 0, 1, [0])\n",
    "my_model.set_hop(w, 1, 0, [1])\n",
    "\n",
    "# print tight-binding model\n",
    "my_model.display()"
   ]
  },
  {
   "cell_type": "markdown",
   "metadata": {},
   "source": [
    "### Visualize the model"
   ]
  },
  {
   "cell_type": "code",
   "execution_count": null,
   "metadata": {},
   "outputs": [],
   "source": [
    "%matplotlib inline\n",
    "my_model.visualize(0)"
   ]
  },
  {
   "cell_type": "markdown",
   "metadata": {},
   "source": [
    "### Prepare the path in the Brillouin zone"
   ]
  },
  {
   "cell_type": "markdown",
   "metadata": {},
   "source": [
    "nodes in reduced coordiantes (in units of the reciprocal lattice vectors)"
   ]
  },
  {
   "cell_type": "code",
   "execution_count": null,
   "metadata": {},
   "outputs": [],
   "source": [
    "# generate list of k-points following a segmented path in the BZ\n",
    "# list of nodes (high-symmetry points) that will be connected\n",
    "path=[[-0.5],[0.0],[0.5]]\n",
    "# labels of the nodes\n",
    "label=(r'$-X$',r'$\\Gamma $',r'$X$')\n",
    "# total number of interpolated k-points along the path\n",
    "nk=101\n",
    "\n",
    "# call function k_path to construct the actual path\n",
    "(k_vec,k_dist,k_node)=my_model.k_path(path,nk)\n",
    "# inputs:\n",
    "#   path, nk: see above\n",
    "#   my_model: the pythtb model\n",
    "# outputs:\n",
    "#   k_vec: list of interpolated k-points\n",
    "#   k_dist: horizontal axis position of each k-point in the list\n",
    "#   k_node: horizontal axis position of each original node"
   ]
  },
  {
   "cell_type": "markdown",
   "metadata": {},
   "source": [
    "### Solve for the band structure"
   ]
  },
  {
   "cell_type": "code",
   "execution_count": null,
   "metadata": {},
   "outputs": [],
   "source": [
    "# obtain eigenvalues and eigenvectors\n",
    "(evals_bnd,evecs_bnd)=my_model.solve_all(k_vec,eig_vectors=True)"
   ]
  },
  {
   "cell_type": "markdown",
   "metadata": {},
   "source": [
    "### Plot the band structure"
   ]
  },
  {
   "cell_type": "code",
   "execution_count": null,
   "metadata": {},
   "outputs": [],
   "source": [
    "# figure for bandstructure\n",
    "\n",
    "fig, ax = plt.subplots()\n",
    "# specify horizontal axis details\n",
    "# set range of horizontal axis\n",
    "ax.set_xlim(k_node[0],k_node[-1])\n",
    "# put tickmarks and labels at node positions\n",
    "ax.set_xticks(k_node)\n",
    "ax.set_xticklabels(label)\n",
    "# add vertical lines at node positions\n",
    "for n in range(len(k_node)):\n",
    "  ax.axvline(x=k_node[n],linewidth=0.5, color='k')\n",
    "# put title\n",
    "ax.set_title(\"SSH band structure\")\n",
    "ax.set_xlabel(\"Path in k-space\")\n",
    "ax.set_ylabel(\"Band energy\")\n",
    "\n",
    "# plot first and second band\n",
    "ax.plot(k_dist,evals_bnd[0])\n",
    "ax.plot(k_dist,evals_bnd[1])\n",
    "\n",
    "# tight layout\n",
    "fig.tight_layout()"
   ]
  },
  {
   "cell_type": "markdown",
   "metadata": {},
   "source": [
    "### Calculate density of states"
   ]
  },
  {
   "cell_type": "code",
   "execution_count": null,
   "metadata": {},
   "outputs": [],
   "source": [
    "# first solve the model on a mesh and return all energies\n",
    "kmesh=500\n",
    "kpts=[]\n",
    "for i in range(kmesh):\n",
    "    kpts.append([-0.5+float(i)/float(kmesh)])\n",
    "# solve the model on this mesh\n",
    "evals_all=my_model.solve_all(kpts)\n",
    "# flatten completely the matrix\n",
    "evals_all_flat=evals_all.flatten()"
   ]
  },
  {
   "cell_type": "markdown",
   "metadata": {},
   "source": [
    "### Plot density of states"
   ]
  },
  {
   "cell_type": "code",
   "execution_count": null,
   "metadata": {},
   "outputs": [],
   "source": [
    "fig2, ax2 = plt.subplots()\n",
    "# number of intervals\n",
    "nint=201\n",
    "ax2.hist(evals_all_flat,nint,range=(-2.,2.), orientation='horizontal')\n",
    "ax2.set_ylim(-2.,2.)\n",
    "# put title\n",
    "ax2.set_title(\"SSH density of states\")\n",
    "ax2.set_xlabel(\"Number of states\")\n",
    "ax2.set_ylabel(\"Band energy\")\n",
    "# make an PDF figure of a plot\n",
    "fig2.tight_layout()"
   ]
  },
  {
   "cell_type": "markdown",
   "metadata": {},
   "source": [
    "### Plot DOS together with the bands"
   ]
  },
  {
   "cell_type": "code",
   "execution_count": null,
   "metadata": {},
   "outputs": [],
   "source": [
    "v=0.5\n",
    "w=1.0\n",
    "\n",
    "my_model=tb_model(1,1,lat,orb)\n",
    "my_model.set_onsite([0,0])\n",
    "my_model.set_hop(v, 0, 1, [0])\n",
    "my_model.set_hop(w, 1, 0, [1])\n",
    "(evals_bnd,evecs_bnd)=my_model.solve_all(k_vec,eig_vectors=True)\n",
    "\n",
    "\n",
    "fig, (ax1, ax2) = plt.subplots(1, 2, sharey=True,figsize = (12,6))\n",
    "ax1.set_xlim(k_node[0],k_node[-1])\n",
    "ax1.set_xticks(k_node)\n",
    "ax1.set_xticklabels(label)\n",
    "for n in range(len(k_node)):\n",
    "  ax1.axvline(x=k_node[n],linewidth=0.5, color='k')\n",
    "ax1.set_title(\"SSH band structure\")\n",
    "ax.set_xlabel(\"Path in k-space\")\n",
    "ax1.set_ylabel(\"Band energy\")\n",
    "ax1.plot(k_dist,evals_bnd[0])\n",
    "ax1.plot(k_dist,evals_bnd[1])\n",
    "\n",
    "\n",
    "kmesh=500\n",
    "kpts=[]\n",
    "for i in range(kmesh):\n",
    "    kpts.append([-0.5+float(i)/float(kmesh)])\n",
    "evals_all=my_model.solve_all(kpts)\n",
    "evals_all_flat=evals_all.flatten()\n",
    "\n",
    "nint=201\n",
    "ax2.hist(evals_all_flat,nint,range=(-2.,2.), orientation='horizontal')\n",
    "ax2.set_ylim(-2.,2.)\n",
    "ax2.set_title(\"SSH density of states\")\n",
    "ax2.set_xlabel(\"Number of states\")\n",
    "\n",
    "fig.tight_layout()\n",
    "plt.show()"
   ]
  },
  {
   "cell_type": "markdown",
   "metadata": {},
   "source": [
    "Note the peaks at the band edges. DOS in 1D: $D(\\epsilon) \\propto 1/\\sqrt{\\epsilon}$"
   ]
  },
  {
   "cell_type": "markdown",
   "metadata": {},
   "source": [
    "### Calculate the velocities along the path"
   ]
  },
  {
   "cell_type": "markdown",
   "metadata": {},
   "source": [
    "$v_n(k_i) = \\frac{1}{\\hbar} \\frac{\\partial \\epsilon_n (k_i)}{\\partial k_i} \\approx \\frac{1}{\\hbar} \\frac{ \\epsilon_n (k_{i+1}) - \\epsilon_n (k_{i}) }{k_{i+1}-k_i} $"
   ]
  },
  {
   "cell_type": "code",
   "execution_count": null,
   "metadata": {},
   "outputs": [],
   "source": [
    "vel = np.zeros((2,len(k_dist)-1))\n",
    "for i in range(len(k_dist)-1):\n",
    "    for m in range(2):\n",
    "        vel[m,i] = (evals_bnd[m,i+1]-evals_bnd[m,i])/(k_dist[i+1]-k_dist[i])"
   ]
  },
  {
   "cell_type": "markdown",
   "metadata": {},
   "source": [
    "### Plot the velocities"
   ]
  },
  {
   "cell_type": "code",
   "execution_count": null,
   "metadata": {},
   "outputs": [],
   "source": [
    "# Create the colormap\n",
    "colors = [(0,0,1),(1, 1, 1),(1,0,0)]  # B -> W -> R\n",
    "cmap_name = 'my_list'\n",
    "cm = LinearSegmentedColormap.from_list(cmap_name, colors, 100)\n",
    "\n",
    "fig, ax = plt.subplots()\n",
    "\n",
    "# specify horizontal axis details\n",
    "# set range of horizontal axis\n",
    "ax.set_xlim(k_node[0],k_node[-1])\n",
    "# put tickmarks and labels at node positions\n",
    "ax.set_xticks(k_node)\n",
    "ax.set_xticklabels(label)\n",
    "# add vertical lines at node positions\n",
    "for n in range(len(k_node)):\n",
    "  ax.axvline(x=k_node[n],linewidth=0.5, color='k')\n",
    "# put title\n",
    "ax.set_title(\"SSH band structure\")\n",
    "ax.set_xlabel(\"Path in k-space\")\n",
    "ax.set_ylabel(\"Band energy\")\n",
    "\n",
    "# plot first and second band\n",
    "bc=ax.scatter(k_dist[:-1],evals_bnd[0,:-1],c=vel[0],s=5,cmap=cm,vmin=-10, vmax=10)\n",
    "bc=ax.scatter(k_dist[:-1],evals_bnd[1,:-1],c=vel[1],s=5,cmap=cm,vmin=-10, vmax=10)\n",
    "cbar=plt.colorbar(bc,ticks=[-10,0.0,10], shrink=0.9, pad = 0.1)\n",
    "cbar.ax.set_yticklabels([r\"$-10$\",r\"$0$\",r\"$10$\"],size=20)\n",
    "cbar.ax.set_ylabel(r\"$\\hbar v$\", rotation=270,size=20)\n",
    "\n",
    "# tight layout\n",
    "fig.tight_layout()\n",
    "plt.show()"
   ]
  },
  {
   "cell_type": "markdown",
   "metadata": {},
   "source": [
    "### Electronic structure of a finite chain"
   ]
  },
  {
   "cell_type": "markdown",
   "metadata": {},
   "source": [
    "large number of cells"
   ]
  },
  {
   "cell_type": "code",
   "execution_count": null,
   "metadata": {},
   "outputs": [],
   "source": [
    "# cutout finite model along direction 0\n",
    "cut_finite=my_model.cut_piece(20,0,glue_edgs=False)\n",
    "cut_periodic=my_model.cut_piece(20,0,glue_edgs=True)"
   ]
  },
  {
   "cell_type": "markdown",
   "metadata": {},
   "source": [
    "### Visualize"
   ]
  },
  {
   "cell_type": "code",
   "execution_count": null,
   "metadata": {},
   "outputs": [],
   "source": [
    "(fig,ax)=cut_finite.visualize(0)\n",
    "ax.set_title(\"SSH, chain\")\n",
    "ax.set_xlabel(\"x coordinate\")\n",
    "ax.set_ylabel(\"y coordinate\")\n",
    "fig.tight_layout()"
   ]
  },
  {
   "cell_type": "markdown",
   "metadata": {},
   "source": [
    "### Electronic structure of the chain"
   ]
  },
  {
   "cell_type": "markdown",
   "metadata": {},
   "source": [
    "- not periodic\n",
    "- discrete levels"
   ]
  },
  {
   "cell_type": "code",
   "execution_count": null,
   "metadata": {},
   "outputs": [],
   "source": [
    "v=0.5\n",
    "w=1\n",
    "\n",
    "my_model=tb_model(1,1,lat,orb)\n",
    "my_model.set_onsite([0,0])\n",
    "my_model.set_hop(v, 0, 1, [0])\n",
    "my_model.set_hop(w, 1, 0, [1])\n",
    "(evals_bnd,evecs_bnd)=my_model.solve_all(k_vec,eig_vectors=True)\n",
    "\n",
    "fig, (ax1, ax2, ax3) = plt.subplots(1, 3, sharey=True,figsize = (12,6))\n",
    "ax1.set_xlim(k_node[0],k_node[-1])\n",
    "ax1.set_xticks(k_node)\n",
    "ax1.set_xticklabels(label)\n",
    "for n in range(len(k_node)):\n",
    "  ax1.axvline(x=k_node[n],linewidth=0.5, color='k')\n",
    "ax1.set_title(\"SSH band structure\")\n",
    "ax.set_xlabel(\"Path in k-space\")\n",
    "ax1.set_ylabel(\"Band energy\")\n",
    "ax1.plot(k_dist,evals_bnd[0])\n",
    "ax1.plot(k_dist,evals_bnd[1])\n",
    "\n",
    "\n",
    "cut_finite=my_model.cut_piece(100,0,glue_edgs=False)\n",
    "cut_periodic=my_model.cut_piece(100,0,glue_edgs=True)\n",
    "(evals_per,evecs_per)=cut_periodic.solve_all(eig_vectors=True)\n",
    "(evals_fin,evecs_fin)=cut_finite.solve_all(eig_vectors=True)\n",
    "\n",
    "nint=201\n",
    "ax2.hist(evals_per,nint,range=(-2.,2.), orientation='horizontal')\n",
    "ax2.set_ylim(-2.,2.)\n",
    "ax2.set_title(\"SSH density of states - periodic chain\")\n",
    "ax2.set_xlabel(\"Number of states\")\n",
    "\n",
    "ax3.hist(evals_fin,nint,range=(-2.,2.), orientation='horizontal')\n",
    "ax3.set_ylim(-2.,2.)\n",
    "ax3.set_title(\"SSH density of states - finite chain\")\n",
    "ax3.set_xlabel(\"Number of states\")\n",
    "\n",
    "fig.tight_layout()\n",
    "plt.show()"
   ]
  },
  {
   "cell_type": "markdown",
   "metadata": {},
   "source": [
    "### Localization of the edge state"
   ]
  },
  {
   "cell_type": "code",
   "execution_count": null,
   "metadata": {},
   "outputs": [],
   "source": [
    "cut_finite=my_model.cut_piece(10,0,glue_edgs=False)\n",
    "(evals_fin,evecs_fin)=cut_finite.solve_all(eig_vectors=True)\n",
    "\n",
    "# pick index of state in the middle of the gap\n",
    "ed=cut_finite.get_num_orbitals()//2\n",
    "\n",
    "# draw one of the edge states\n",
    "(fig,ax)=cut_finite.visualize(0,eig_dr=evecs_fin[ed,:])\n",
    "ax.set_title(\"Edge state\")\n",
    "ax.set_xlabel(\"x coordinate\")\n",
    "ax.set_ylabel(\"y coordinate\")\n",
    "fig.tight_layout()\n"
   ]
  },
  {
   "cell_type": "markdown",
   "metadata": {},
   "source": [
    "### Localization of a bulk state"
   ]
  },
  {
   "cell_type": "code",
   "execution_count": null,
   "metadata": {
    "scrolled": false
   },
   "outputs": [],
   "source": [
    "cut_finite=my_model.cut_piece(10,0,glue_edgs=False)\n",
    "(evals_fin,evecs_fin)=cut_finite.solve_all(eig_vectors=True)\n",
    "\n",
    "# pick index of state in the middle of the gap\n",
    "ed=cut_finite.get_num_orbitals()//4\n",
    "\n",
    "# draw one of the edge states\n",
    "(fig,ax)=cut_finite.visualize(0,eig_dr=evecs_fin[ed,:])\n",
    "ax.set_title(\"Edge state\")\n",
    "ax.set_xlabel(\"x coordinate\")\n",
    "ax.set_ylabel(\"y coordinate\")\n",
    "fig.tight_layout()"
   ]
  },
  {
   "cell_type": "markdown",
   "metadata": {},
   "source": [
    "### Edge states on the boundary between a topological and a normal insulator"
   ]
  },
  {
   "cell_type": "code",
   "execution_count": null,
   "metadata": {},
   "outputs": [],
   "source": [
    "# length of the TI\n",
    "lti = 8\n",
    "# length of the NI\n",
    "lni = 4\n",
    "# total length\n",
    "l = lti+lni\n",
    "\n",
    "# define lattice vectors\n",
    "lat=[[l]]\n",
    "# define coordinates of orbitals\n",
    "orb = []\n",
    "for i in range(l):\n",
    "    orb.append([(i+0.25)/l])\n",
    "    orb.append([(i+0.75)/l])"
   ]
  },
  {
   "cell_type": "markdown",
   "metadata": {},
   "source": [
    "### Create the model"
   ]
  },
  {
   "cell_type": "code",
   "execution_count": null,
   "metadata": {},
   "outputs": [],
   "source": [
    "# create the SSH model\n",
    "my_model=tb_model(1,1,lat,orb)\n",
    "\n",
    "# set model parameters\n",
    "v=0.5\n",
    "w=1.0\n",
    "#v_per = 0.\n",
    "v_per = v\n",
    "\n",
    "# set on-site energies\n",
    "zeros = np.zeros(len(orb))\n",
    "my_model.set_onsite(zeros.tolist())\n",
    "# set hoppings (one for each connected pair of orbitals)\n",
    "# (amplitude, i, j, [lattice vector to cell containing j])\n",
    "# TI\n",
    "for i in range(lti):\n",
    "    my_model.set_hop(v, 2*i, 2*i+1, [0])\n",
    "    my_model.set_hop(w, 2*i+1, 2*i+2, [0])\n",
    "# NI\n",
    "for i in range(lti,l-1):\n",
    "    my_model.set_hop(w, 2*i, 2*i+1, [0])\n",
    "    my_model.set_hop(v, 2*i+1, 2*i+2, [0])\n",
    "# last cell (periodic?)\n",
    "i = l-1\n",
    "my_model.set_hop(w, 2*i, 2*i+1, [0])\n",
    "my_model.set_hop(v_per, 2*i+1, 0, [1])\n",
    "\n",
    "# print tight-binding model\n",
    "#my_model.display()"
   ]
  },
  {
   "cell_type": "code",
   "execution_count": null,
   "metadata": {},
   "outputs": [],
   "source": [
    "my_model.visualize(0)"
   ]
  },
  {
   "cell_type": "code",
   "execution_count": null,
   "metadata": {},
   "outputs": [],
   "source": [
    "path=[[-0.5],[0.0],[0.5]]\n",
    "# labels of the nodes\n",
    "label=(r'$-X$',r'$\\Gamma $',r'$X$')\n",
    "# total number of interpolated k-points along the path\n",
    "nk=101\n",
    "\n",
    "# call function k_path to construct the actual path\n",
    "(k_vec,k_dist,k_node)=my_model.k_path(path,nk)\n",
    "\n",
    "(evals_bnd,evecs_bnd)=my_model.solve_all(k_vec,eig_vectors=True)\n",
    "\n",
    "fig, (ax1,ax2,ax3) = plt.subplots(1,3,figsize = (15,6))\n",
    "ax1.set_xlim(k_node[0],k_node[-1])\n",
    "ax1.set_xticks(k_node)\n",
    "ax1.set_xticklabels(label)\n",
    "for n in range(len(k_node)):\n",
    "  ax1.axvline(x=k_node[n],linewidth=0.5, color='k')\n",
    "ax1.set_title(\"SSH superlattice (periodic) band structure\")\n",
    "ax1.set_xlabel(\"Path in k-space\")\n",
    "ax1.set_ylabel(\"Band energy\")\n",
    "for ib in range(len(orb)):\n",
    "    ax1.plot(k_dist,evals_bnd[ib], color = 'k')\n",
    "\n",
    "ax2.set_xlim(k_node[0],k_node[-1])\n",
    "ax2.set_ylim(-0.05,0.05)\n",
    "ax2.set_xticks(k_node)\n",
    "ax2.set_xticklabels(label)\n",
    "for n in range(len(k_node)):\n",
    "  ax2.axvline(x=k_node[n],linewidth=0.5, color='k')\n",
    "ax2.set_title(\"SSH superlattice (periodic) band structure\")\n",
    "ax2.set_xlabel(\"Path in k-space\")\n",
    "#ax2.set_ylabel(\"Band energy\")\n",
    "for ib in range(len(orb)):\n",
    "    ax2.plot(k_dist,evals_bnd[ib], color = 'k')\n",
    "    \n",
    "cut_finite=my_model.cut_piece(5,0,glue_edgs=False)\n",
    "(evals_fin,evecs_fin)=cut_finite.solve_all(eig_vectors=True)\n",
    "nint=51\n",
    "ax3.hist(evals_fin,nint,range=(-0.05,0.05), orientation='horizontal')\n",
    "ax3.set_ylim(-0.05,0.05)\n",
    "ax3.set_title(\"SSH superlattice (finite, 5 SL cells) DOS\")\n",
    "ax3.set_xlabel(\"Number of states\")"
   ]
  },
  {
   "cell_type": "markdown",
   "metadata": {},
   "source": [
    "### Localization of interface and edge states"
   ]
  },
  {
   "cell_type": "code",
   "execution_count": null,
   "metadata": {},
   "outputs": [],
   "source": [
    "# pick index of state in the middle of the gap\n",
    "ed=cut_finite.get_num_orbitals()//2-2\n",
    "\n",
    "# draw one of the edge states\n",
    "(fig,ax)=cut_finite.visualize(0,eig_dr=evecs_fin[ed,:])\n",
    "ax.set_title(\"Interface state\",size = 20)\n",
    "ax.set_xlabel(\"x coordinate\")\n",
    "ax.set_ylabel(\"y coordinate\")\n",
    "fig.tight_layout()\n",
    "\n",
    "# pick index of state in the middle of the gap\n",
    "ed=cut_finite.get_num_orbitals()//2\n",
    "\n",
    "# draw one of the edge states\n",
    "(fig,ax)=cut_finite.visualize(0,eig_dr=evecs_fin[ed,:])\n",
    "ax.set_title(\"Edge state\",size = 20)\n",
    "ax.set_xlabel(\"x coordinate\")\n",
    "ax.set_ylabel(\"y coordinate\")\n",
    "fig.tight_layout()"
   ]
  },
  {
   "cell_type": "code",
   "execution_count": null,
   "metadata": {},
   "outputs": [],
   "source": []
  }
 ],
 "metadata": {
  "kernelspec": {
   "display_name": "Python 3",
   "language": "python",
   "name": "python3"
  },
  "language_info": {
   "codemirror_mode": {
    "name": "ipython",
    "version": 3
   },
   "file_extension": ".py",
   "mimetype": "text/x-python",
   "name": "python",
   "nbconvert_exporter": "python",
   "pygments_lexer": "ipython3",
   "version": "3.6.10"
  }
 },
 "nbformat": 4,
 "nbformat_minor": 2
}
